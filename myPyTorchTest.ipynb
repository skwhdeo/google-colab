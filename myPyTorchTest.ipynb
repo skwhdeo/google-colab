{
  "nbformat": 4,
  "nbformat_minor": 0,
  "metadata": {
    "colab": {
      "name": "myPyTorchTest.ipynb",
      "provenance": [],
      "collapsed_sections": [],
      "authorship_tag": "ABX9TyP67xaV1qj0YG0N6PYPWMMG",
      "include_colab_link": true
    },
    "kernelspec": {
      "name": "python3",
      "display_name": "Python 3"
    },
    "accelerator": "GPU"
  },
  "cells": [
    {
      "cell_type": "markdown",
      "metadata": {
        "id": "view-in-github",
        "colab_type": "text"
      },
      "source": [
        "<a href=\"https://colab.research.google.com/github/skwhdeo/google-colab/blob/master/myPyTorchTest.ipynb\" target=\"_parent\"><img src=\"https://colab.research.google.com/assets/colab-badge.svg\" alt=\"Open In Colab\"/></a>"
      ]
    },
    {
      "cell_type": "code",
      "metadata": {
        "id": "xOgvKQw9p57j",
        "colab_type": "code",
        "outputId": "3efae919-afd7-4ac6-ebd3-0ff7486e414e",
        "colab": {
          "base_uri": "https://localhost:8080/",
          "height": 323
        }
      },
      "source": [
        "import torch\n",
        "import numpy\n",
        "import matplotlib.pyplot as plt\n",
        "\n",
        "x = torch.ones(3,2)\n",
        "print(x)\n",
        "\n",
        "x = torch.zeros(2,3)\n",
        "print(x)\n",
        "\n",
        "torch.manual_seed(2)\n",
        "x = torch.rand(2,2)\n",
        "print(x)\n",
        "\n",
        "x = x.new_ones(5, 3, dtype=torch.int)      # new_* 메소드는 크기를 받습니다\n",
        "print(x)\n",
        "\n",
        "x = torch.randn_like(x, dtype=torch.float)    # dtype을 오버라이드(Override) 합니다!\n",
        "print(x)                                      # 결과는 동일한 크기를 갖습니다"
      ],
      "execution_count": 4,
      "outputs": [
        {
          "output_type": "stream",
          "text": [
            "tensor([[1., 1.],\n",
            "        [1., 1.],\n",
            "        [1., 1.]])\n",
            "tensor([[0., 0., 0.],\n",
            "        [0., 0., 0.]])\n",
            "tensor([[0.6147, 0.3810],\n",
            "        [0.6371, 0.4745]])\n",
            "tensor([[1, 1, 1],\n",
            "        [1, 1, 1],\n",
            "        [1, 1, 1],\n",
            "        [1, 1, 1],\n",
            "        [1, 1, 1]], dtype=torch.int32)\n",
            "tensor([[-0.3195, -1.2050,  1.0445],\n",
            "        [-0.6332,  0.5731,  0.5409],\n",
            "        [-0.3919, -1.0427,  1.3186],\n",
            "        [ 0.7476, -1.3265, -1.2413],\n",
            "        [-0.1028, -0.9498,  0.6181]])\n"
          ],
          "name": "stdout"
        }
      ]
    }
  ]
}