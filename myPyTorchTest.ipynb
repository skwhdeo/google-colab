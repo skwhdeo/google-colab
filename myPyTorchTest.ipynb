{
  "nbformat": 4,
  "nbformat_minor": 0,
  "metadata": {
    "colab": {
      "name": "myPyTorchTest.ipynb",
      "provenance": [],
      "collapsed_sections": [],
      "authorship_tag": "ABX9TyM+Dmury7yfqYU2daQKHbQn",
      "include_colab_link": true
    },
    "kernelspec": {
      "name": "python3",
      "display_name": "Python 3"
    },
    "accelerator": "GPU"
  },
  "cells": [
    {
      "cell_type": "markdown",
      "metadata": {
        "id": "view-in-github",
        "colab_type": "text"
      },
      "source": [
        "<a href=\"https://colab.research.google.com/github/skwhdeo/google-colab/blob/master/myPyTorchTest.ipynb\" target=\"_parent\"><img src=\"https://colab.research.google.com/assets/colab-badge.svg\" alt=\"Open In Colab\"/></a>"
      ]
    },
    {
      "cell_type": "code",
      "metadata": {
        "id": "xOgvKQw9p57j",
        "colab_type": "code",
        "outputId": "83da423c-31c2-4dfd-ec9a-6ee07ad26467",
        "colab": {
          "base_uri": "https://localhost:8080/",
          "height": 719
        }
      },
      "source": [
        "import torch\n",
        "import numpy\n",
        "import matplotlib.pyplot as plt\n",
        "\n",
        "x = torch.ones(2,3)\n",
        "print(x)\n",
        "\n",
        "a = torch.zeros(2,3)\n",
        "print(a)\n",
        "\n",
        "torch.manual_seed(2)\n",
        "b = torch.rand(2,3)\n",
        "print(b)\n",
        "print(b.size())\n",
        "print(b.size()[1])\n",
        "print(x+b)\n",
        "\n",
        "print(x.add_(b))\n",
        "\n",
        "\n",
        "print(x[:,0:2])\n",
        "\n",
        "\n",
        "a = torch.zeros(4,4)\n",
        "aa = a.view(-1,2)\n",
        "print(aa.size())\n",
        "print(aa)\n",
        "print(aa.add_(100))\n",
        "print(aa.mul_(0.1))\n"
      ],
      "execution_count": 55,
      "outputs": [
        {
          "output_type": "stream",
          "text": [
            "tensor([[1., 1., 1.],\n",
            "        [1., 1., 1.]])\n",
            "tensor([[0., 0., 0.],\n",
            "        [0., 0., 0.]])\n",
            "tensor([[0.6147, 0.3810, 0.6371],\n",
            "        [0.4745, 0.7136, 0.6190]])\n",
            "torch.Size([2, 3])\n",
            "3\n",
            "tensor([[1.6147, 1.3810, 1.6371],\n",
            "        [1.4745, 1.7136, 1.6190]])\n",
            "tensor([[1.6147, 1.3810, 1.6371],\n",
            "        [1.4745, 1.7136, 1.6190]])\n",
            "tensor([[1.6147, 1.3810],\n",
            "        [1.4745, 1.7136]])\n",
            "torch.Size([8, 2])\n",
            "tensor([[0., 0.],\n",
            "        [0., 0.],\n",
            "        [0., 0.],\n",
            "        [0., 0.],\n",
            "        [0., 0.],\n",
            "        [0., 0.],\n",
            "        [0., 0.],\n",
            "        [0., 0.]])\n",
            "tensor([[100., 100.],\n",
            "        [100., 100.],\n",
            "        [100., 100.],\n",
            "        [100., 100.],\n",
            "        [100., 100.],\n",
            "        [100., 100.],\n",
            "        [100., 100.],\n",
            "        [100., 100.]])\n",
            "tensor([[10., 10.],\n",
            "        [10., 10.],\n",
            "        [10., 10.],\n",
            "        [10., 10.],\n",
            "        [10., 10.],\n",
            "        [10., 10.],\n",
            "        [10., 10.],\n",
            "        [10., 10.]])\n"
          ],
          "name": "stdout"
        }
      ]
    }
  ]
}