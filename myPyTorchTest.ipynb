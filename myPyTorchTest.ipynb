{
  "nbformat": 4,
  "nbformat_minor": 0,
  "metadata": {
    "colab": {
      "name": "myPyTorchTest.ipynb",
      "provenance": [],
      "collapsed_sections": [],
      "authorship_tag": "ABX9TyMCQGOCGSX+Zx3L9/BSGi+R",
      "include_colab_link": true
    },
    "kernelspec": {
      "name": "python3",
      "display_name": "Python 3"
    },
    "accelerator": "GPU"
  },
  "cells": [
    {
      "cell_type": "markdown",
      "metadata": {
        "id": "view-in-github",
        "colab_type": "text"
      },
      "source": [
        "<a href=\"https://colab.research.google.com/github/skwhdeo/google-colab/blob/master/myPyTorchTest.ipynb\" target=\"_parent\"><img src=\"https://colab.research.google.com/assets/colab-badge.svg\" alt=\"Open In Colab\"/></a>"
      ]
    },
    {
      "cell_type": "code",
      "metadata": {
        "id": "xOgvKQw9p57j",
        "colab_type": "code",
        "outputId": "8b0fe319-a499-456a-af7f-ca204dcafe10",
        "colab": {
          "base_uri": "https://localhost:8080/",
          "height": 143
        }
      },
      "source": [
        "import torch\n",
        "import numpy\n",
        "import matplotlib.pyplot as plt\n",
        "\n",
        "x = torch.ones(3,2)\n",
        "print(x)\n",
        "\n",
        "x = torch.zeros(2,3)\n",
        "print(x)\n",
        "\n",
        "torch.manual_seed(2)\n",
        "x = torch.rand(2,2)\n",
        "print(x)"
      ],
      "execution_count": 0,
      "outputs": [
        {
          "output_type": "stream",
          "text": [
            "tensor([[1., 1.],\n",
            "        [1., 1.],\n",
            "        [1., 1.]])\n",
            "tensor([[0., 0., 0.],\n",
            "        [0., 0., 0.]])\n",
            "tensor([[0.6147, 0.3810],\n",
            "        [0.6371, 0.4745]])\n"
          ],
          "name": "stdout"
        }
      ]
    }
  ]
}